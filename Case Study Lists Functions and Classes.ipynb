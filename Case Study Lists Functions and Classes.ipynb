{
 "cells": [
  {
   "cell_type": "code",
   "execution_count": 2,
   "id": "46ca2288",
   "metadata": {},
   "outputs": [
    {
     "name": "stdout",
     "output_type": "stream",
     "text": [
      "What type is the vehicle?: car\n",
      "What is the vehicle's year?: 2022\n",
      "Who created the vehicle?: Toyato\n",
      "What model is the vehicle?: Corolla\n",
      "How many doors does the vehicle have? (2 or 4): 4\n",
      "Does the vehicle have a sun or a solid?: sun roof\n",
      "Vehicle Type:car\n",
      "Year:2022\n",
      "Model:Corolla\n",
      "Number of Doors:4\n",
      "Type of Roof:sun roof\n"
     ]
    }
   ],
   "source": [
    "class Vehicle:\n",
    "    def __init__(self,type):\n",
    "        self.type = type\n",
    "class Automobile(Vehicle):\n",
    "    def __init__(self, type, year, make, model, doors, roof):\n",
    "        super().__init__(type)\n",
    "        self.year = year\n",
    "        self.make = make\n",
    "        self.model = model\n",
    "        self.doors = doors\n",
    "        self.roof = roof\n",
    "        \n",
    "type_v = input(\"What type is the vehicle?: \")\n",
    "year_v = input(\"What is the vehicle's year?: \")\n",
    "make_v = input(\"Who created the vehicle?: \")\n",
    "model_v = input(\"What model is the vehicle?: \")\n",
    "doors_v = input(\"How many doors does the vehicle have? (2 or 4): \")\n",
    "roof_v = input(\"Does the vehicle have a sun or a solid?: \")\n",
    "Auto = Automobile(type_v, year_v, make_v, model_v, doors_v, roof_v)\n",
    "\n",
    "print(\"Vehicle Type:\" + Auto.type)\n",
    "print(\"Year:\" + Auto.year)\n",
    "print(\"Model:\" + Auto.model)\n",
    "print(\"Number of Doors:\" + Auto.doors)\n",
    "print(\"Type of Roof:\" + Auto.roof)\n",
    "\n",
    "        \n",
    "\n",
    "        \n",
    "    "
   ]
  },
  {
   "cell_type": "code",
   "execution_count": null,
   "id": "098ec753",
   "metadata": {},
   "outputs": [],
   "source": []
  }
 ],
 "metadata": {
  "kernelspec": {
   "display_name": "Python 3 (ipykernel)",
   "language": "python",
   "name": "python3"
  },
  "language_info": {
   "codemirror_mode": {
    "name": "ipython",
    "version": 3
   },
   "file_extension": ".py",
   "mimetype": "text/x-python",
   "name": "python",
   "nbconvert_exporter": "python",
   "pygments_lexer": "ipython3",
   "version": "3.9.12"
  }
 },
 "nbformat": 4,
 "nbformat_minor": 5
}
